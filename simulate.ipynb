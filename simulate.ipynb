{
  "nbformat": 4,
  "nbformat_minor": 0,
  "metadata": {
    "colab": {
      "provenance": []
    },
    "kernelspec": {
      "name": "python3",
      "display_name": "Python 3"
    },
    "language_info": {
      "name": "python"
    }
  },
  "cells": [
    {
      "cell_type": "code",
      "source": [
        "import time\n",
        "\n",
        "def timemycode(func):\n",
        "    def wrapper(*args, **kwargs):\n",
        "        start_time = time.time()\n",
        "        result = func(*args, **kwargs)\n",
        "        end_time = time.time()\n",
        "        print(f\"Function {func.__name__} took {end_time - start_time:.5f} seconds to execute.\")\n",
        "        return result\n",
        "    return wrapper\n"
      ],
      "metadata": {
        "id": "VWaZLTEZJb3I"
      },
      "execution_count": 45,
      "outputs": []
    },
    {
      "cell_type": "code",
      "source": [
        "map={\n",
        "    'Engineering Buiding':{\n",
        "        'latitude':32.214256505009985,\n",
        "        'longitude': -98.21779723918512\n",
        "    },\n",
        "     'Library':{\n",
        "         'latitude':32.215730969726785,\n",
        "         'longitude': -98.21730569278304\n",
        "     },\n",
        "     'Nursing Building':{\n",
        "         'latitude':32.21664588196621,\n",
        "         'longitude': -98.22043371534166\n",
        "     },\n",
        "     'Centennial':{\n",
        "        'latitude':32.217553223855305,\n",
        "        'longitude': -98.2217742964382\n",
        "    },\n",
        "     'Rec':{\n",
        "         'latitude':32.21630562642345,\n",
        "         'longitude':  -98.2224535241938\n",
        "     },\n",
        "      'Science Building':{\n",
        "         'latitude':     32.216883861659866, \n",
        "         'longitude': -98.21972368519181\n",
        "     },\n",
        "\n",
        "     'Student Center':{\n",
        "         'latitude':32.21768176322404, \n",
        "         'longitude': -98.21858371342843,\n",
        "     }\n",
        "     ,'Dining Hall':{\n",
        "        'latitude':32.2178254246564,\n",
        "        'longitude': -98.21791342288013\n",
        "    },\n",
        "     'Honors Hall':{\n",
        "         'latitude':32.216131717543234, \n",
        "         'longitude':  -98.21936125046442,\n",
        "     },\n",
        "     'Heritage Hall':{\n",
        "         'latitude':32.21875543791148, \n",
        "         'longitude':  -98.21975448758607\n",
        "     },\n",
        "     'Hunnewell Hall':{\n",
        "        'latitude':32.21636498651769,\n",
        "        'longitude':  -98.2146443060869, \n",
        "    },\n",
        "     'Mathematic Building':{\n",
        "         'latitude':32.216696108219054, \n",
        "         'longitude': -98.21673716080358\n",
        "     },\n",
        "     'Legends':{\n",
        "         'latitude':32.21772417564671,\n",
        "         'longitude':  -98.2212426209783\n",
        "     }\n",
        "     ,'Legacy':{\n",
        "        'latitude':32.217963653269614,\n",
        "        'longitude':  -98.220472065015\n",
        "    },\n",
        "     'Integrity Hall':{\n",
        "         'latitude':32.21921876315668, \n",
        "         'longitude':  -98.22109181516743\n",
        "     },\n",
        "     'Texan Village':{\n",
        "         'latitude':32.21862007618148, \n",
        "         'longitude':  -98.22219260940068\n",
        "     }\n",
        "\n",
        "}"
      ],
      "metadata": {
        "id": "6C1SAKTbAHmk"
      },
      "execution_count": 87,
      "outputs": []
    },
    {
      "cell_type": "code",
      "source": [
        "lat_miles_per_degree = 69\n",
        "\n",
        "# 32.214256505009985 \n",
        "lon_miles_per_degree = 69.172\n",
        "\n",
        "\n",
        "for location in map:\n",
        "    map[location]['latitude'] *= lat_miles_per_degree\n",
        "    map[location]['longitude'] *= lon_miles_per_degree\n",
        "\n",
        "G = nx.Graph()\n",
        "for location in map:\n",
        "    latitude = map[location]['latitude']\n",
        "    longitude = map[location]['longitude']\n",
        "    G.add_node(location, pos=(longitude, latitude))\n",
        "\n",
        " \n",
        "pos = nx.get_node_attributes(G, 'pos')\n",
        "nx.draw(G, pos, with_labels=True ,node_color='lightblue', node_size=500, font_size=8)\n",
        "plt.show()"
      ],
      "metadata": {
        "colab": {
          "base_uri": "https://localhost:8080/",
          "height": 319
        },
        "id": "2TAiA-b3_WvH",
        "outputId": "157fa25e-b8d8-45f2-b4c6-c4e951d30c8d"
      },
      "execution_count": 34,
      "outputs": [
        {
          "output_type": "display_data",
          "data": {
            "text/plain": [
              "<Figure size 432x288 with 1 Axes>"
            ],
            "image/png": "[encoded data removed]"
          },
          "metadata": {}
        }
      ]
    },
    {
      "cell_type": "code",
      "source": [
        "planned = list(map.keys())[0:7]\n",
        "planned"
      ],
      "metadata": {
        "colab": {
          "base_uri": "https://localhost:8080/"
        },
        "id": "8EQoSR4UD7bq",
        "outputId": "73a7f1eb-1b18-4760-bf77-58339485b67d"
      },
      "execution_count": 39,
      "outputs": [
        {
          "output_type": "execute_result",
          "data": {
            "text/plain": [
              "['Engineering Buiding',\n",
              " 'Library',\n",
              " 'Nursing Building',\n",
              " 'Centennial',\n",
              " 'Rec',\n",
              " 'Science Building',\n",
              " 'Student Center']"
            ]
          },
          "metadata": {},
          "execution_count": 39
        }
      ]
    },
    {
      "cell_type": "code",
      "source": [
        "@timemycode\n",
        "def find_optimal_path(planned, start, end, map):\n",
        "    distances = []\n",
        "    for i in range(len(planned) - 1):\n",
        "        start_lat = map[planned[i]]['latitude']\n",
        "        start_lon = map[planned[i]]['longitude']\n",
        "        end_lat = map[planned[i+1]]['latitude']\n",
        "        end_lon = map[planned[i+1]]['longitude']\n",
        "        distance = ((end_lat - start_lat)**2 + (end_lon - start_lon)**2)**0.5\n",
        "        distances.append(distance)\n",
        "    best_path = planned\n",
        "    best_distance = sum(distances)\n",
        "    from itertools import permutations\n",
        "    for path in permutations(planned):\n",
        "        new_distances = []\n",
        "        for i in range(len(path) - 1):\n",
        "            start_lat = map[path[i]]['latitude']\n",
        "            start_lon = map[path[i]]['longitude']\n",
        "            end_lat = map[path[i+1]]['latitude']\n",
        "            end_lon = map[path[i+1]]['longitude']\n",
        "            distance = ((end_lat - start_lat)**2 + (end_lon - start_lon)**2)**0.5\n",
        "            new_distances.append(distance)\n",
        "        new_distance = sum(new_distances)\n",
        "        if new_distance < best_distance:\n",
        "            best_path = path\n",
        "            best_distance = new_distance\n",
        "    start_index = best_path.index(start)\n",
        "    end_index = best_path.index(end)\n",
        "    if start_index < end_index:\n",
        "        return best_path[start_index:end_index+1]\n",
        "    else:\n",
        "        return best_path[end_index:start_index+1][::-1]\n"
      ],
      "metadata": {
        "id": "hyQeX8AzHL5t"
      },
      "execution_count": 46,
      "outputs": []
    },
    {
      "cell_type": "code",
      "source": [
        "def find_optimal_path_new(planned, start, end, map):\n",
        "    distances = []\n",
        "    times = []\n",
        "    for i in range(len(planned) - 1):\n",
        "        start_lat = map[planned[i]]['latitude']\n",
        "        start_lon = map[planned[i]]['longitude']\n",
        "        end_lat = map[planned[i+1]]['latitude']\n",
        "        end_lon = map[planned[i+1]]['longitude']\n",
        "        distance = ((end_lat - start_lat)**2 + (end_lon - start_lon)**2)**0.5\n",
        "        time = estimate_time(map, planned[i], planned[i+1])\n",
        "        distances.append(distance)\n",
        "        times.append(time)\n",
        "    best_path = planned\n",
        "    best_distance = sum(distances)\n",
        "    from itertools import permutations\n",
        "    for path in permutations(planned):\n",
        "        new_distances = []\n",
        "        new_times = []\n",
        "        for i in range(len(path) - 1):\n",
        "            start_lat = map[path[i]]['latitude']\n",
        "            start_lon = map[path[i]]['longitude']\n",
        "            end_lat = map[path[i+1]]['latitude']\n",
        "            end_lon = map[path[i+1]]['longitude']\n",
        "            distance = ((end_lat - start_lat)**2 + (end_lon - start_lon)**2)**0.5\n",
        "            time = estimate_time(map, path[i], path[i+1])\n",
        "            new_distances.append(distance)\n",
        "            new_times.append(time)\n",
        "        new_distance = sum(new_distances)\n",
        "        new_time = sum(new_times)\n",
        "        if new_distance < best_distance:\n",
        "            best_path = path\n",
        "            best_distance = new_distance\n",
        "            best_times = new_times\n",
        "    start_index = best_path.index(start)\n",
        "    end_index = best_path.index(end)\n",
        "    if start_index < end_index:\n",
        "        return best_path[start_index:end_index+1], best_times[start_index:end_index]\n",
        "    else:\n",
        "        return best_path[end_index:start_index+1][::-1], best_times[end_index:start_index][::-1]\n"
      ],
      "metadata": {
        "id": "gWaKp0H8M9PR"
      },
      "execution_count": 62,
      "outputs": []
    },
    {
      "cell_type": "code",
      "source": [
        "planned =[\n",
        "\n",
        " 'Nursing Building',\n",
        "  'Library',\n",
        " 'Centennial',\n",
        " 'Rec',\n",
        " 'Dining Hall',\n",
        " 'Science Building',\n",
        " 'Student Center']\n",
        "start = 'Dining Hall'\n",
        "end='Rec'\n",
        "path = find_optimal_path(planned, start, end, map)\n",
        "print(path)\n"
      ],
      "metadata": {
        "colab": {
          "base_uri": "https://localhost:8080/"
        },
        "id": "FJ80FQ2GI_hG",
        "outputId": "ce607eb4-60e1-4885-bdc3-f3f00544a57d"
      },
      "execution_count": 173,
      "outputs": [
        {
          "output_type": "stream",
          "name": "stdout",
          "text": [
            "Function find_optimal_path took 0.10890 seconds to execute.\n",
            "('Dining Hall', 'Student Center', 'Science Building', 'Nursing Building', 'Centennial', 'Rec')\n"
          ]
        }
      ]
    },
    {
      "cell_type": "code",
      "source": [
        " "
      ],
      "metadata": {
        "id": "S5dFE49kJHgQ"
      },
      "execution_count": 48,
      "outputs": []
    },
    {
      "cell_type": "code",
      "source": [
        "from math import sin, cos, sqrt, atan2, radians\n",
        "\n",
        "def estimate_time(map, start, end):\n",
        "    lat1, lon1 = map[start]['latitude'], map[start]['longitude']\n",
        "    lat2, lon2 = map[end]['latitude'], map[end]['longitude']\n",
        "    lat_diff = radians(lat2 - lat1)\n",
        "    lon_diff = radians(lon2 - lon1)\n",
        "    a = sin(lat_diff / 2) ** 2 + cos(radians(lat1)) * cos(radians(lat2)) * sin(lon_diff / 2) ** 2\n",
        "    c = 2 * atan2(sqrt(a), sqrt(1 - a))\n",
        "    distance = 3959 * c # 3959  \n",
        "\n",
        "    # Estimate time based on distance\n",
        "    walking_speed = 3.1 # miles per hour\n",
        "    time = distance / walking_speed\n",
        "    return time"
      ],
      "metadata": {
        "id": "Ve5my53LKDQj"
      },
      "execution_count": 60,
      "outputs": []
    },
    {
      "cell_type": "code",
      "source": [
        "estimate_time(map,'Honors Hall','Centennial')"
      ],
      "metadata": {
        "colab": {
          "base_uri": "https://localhost:8080/"
        },
        "id": "ZjiLP2D4Lkxt",
        "outputId": "a000ff12-5803-4c44-b81f-bda17e8bd142"
      },
      "execution_count": 59,
      "outputs": [
        {
          "output_type": "execute_result",
          "data": {
            "text/plain": [
              "0.198806411160471"
            ]
          },
          "metadata": {},
          "execution_count": 59
        }
      ]
    },
    {
      "cell_type": "code",
      "source": [
        "np.array([[0 for i in range(10)] for i in range(10)])"
      ],
      "metadata": {
        "colab": {
          "base_uri": "https://localhost:8080/"
        },
        "id": "jFx1Rn4NLqcg",
        "outputId": "68586666-25e4-483e-d02d-b1ca70b306eb"
      },
      "execution_count": 64,
      "outputs": [
        {
          "output_type": "execute_result",
          "data": {
            "text/plain": [
              "array([[0, 0, 0, 0, 0, 0, 0, 0, 0, 0],\n",
              "       [0, 0, 0, 0, 0, 0, 0, 0, 0, 0],\n",
              "       [0, 0, 0, 0, 0, 0, 0, 0, 0, 0],\n",
              "       [0, 0, 0, 0, 0, 0, 0, 0, 0, 0],\n",
              "       [0, 0, 0, 0, 0, 0, 0, 0, 0, 0],\n",
              "       [0, 0, 0, 0, 0, 0, 0, 0, 0, 0],\n",
              "       [0, 0, 0, 0, 0, 0, 0, 0, 0, 0],\n",
              "       [0, 0, 0, 0, 0, 0, 0, 0, 0, 0],\n",
              "       [0, 0, 0, 0, 0, 0, 0, 0, 0, 0],\n",
              "       [0, 0, 0, 0, 0, 0, 0, 0, 0, 0]])"
            ]
          },
          "metadata": {},
          "execution_count": 64
        }
      ]
    },
    {
      "cell_type": "code",
      "source": [
        "import numpy as np\n",
        "from scipy.spatial.distance import cdist\n",
        "\n",
        "def map_to_maze(map_dict):\n",
        "    # extract coordinates from map dictionary\n",
        "    coords = np.array([[loc['latitude'], loc['longitude']] for loc in map_dict.values()])\n",
        "\n",
        "    # compute distances between all pairs of points\n",
        "    dists = cdist(coords, coords)\n",
        "\n",
        "    # create empty maze array\n",
        "    maze = np.zeros((len(map_dict), len(map_dict)))\n",
        "\n",
        "    # assign random values to maze cells\n",
        "    maze.flat = np.random.randint(1, 10, size=len(maze))\n",
        "\n",
        "    # set distance values in maze array\n",
        "    for i, key in enumerate(map_dict.keys()):\n",
        "        for j, key2 in enumerate(map_dict.keys()):\n",
        "            if i != j:\n",
        "                maze[i][j] = dists[i][j]\n",
        "\n",
        "    return maze.astype(int)\n"
      ],
      "metadata": {
        "id": "sgTI3r8YYQ5o"
      },
      "execution_count": 67,
      "outputs": []
    },
    {
      "cell_type": "code",
      "source": [
        "len(map.keys())"
      ],
      "metadata": {
        "colab": {
          "base_uri": "https://localhost:8080/"
        },
        "id": "YU1NSpo3Zihs",
        "outputId": "b02671b1-7b31-4a62-ba2f-7d311c93afdc"
      },
      "execution_count": 69,
      "outputs": [
        {
          "output_type": "execute_result",
          "data": {
            "text/plain": [
              "16"
            ]
          },
          "metadata": {},
          "execution_count": 69
        }
      ]
    },
    {
      "cell_type": "code",
      "source": [
        "map_to_maze(map)"
      ],
      "metadata": {
        "colab": {
          "base_uri": "https://localhost:8080/"
        },
        "id": "gLcHBO0eYh27",
        "outputId": "7300c4ae-89ba-473a-fc89-013941174356"
      },
      "execution_count": 68,
      "outputs": [
        {
          "output_type": "execute_result",
          "data": {
            "text/plain": [
              "array([[8, 0, 0, 0, 0, 0, 0, 0, 0, 0, 0, 0, 0, 0, 0, 0],\n",
              "       [0, 3, 0, 0, 0, 0, 0, 0, 0, 0, 0, 0, 0, 0, 0, 0],\n",
              "       [0, 0, 2, 0, 0, 0, 0, 0, 0, 0, 0, 0, 0, 0, 0, 0],\n",
              "       [0, 0, 0, 9, 0, 0, 0, 0, 0, 0, 0, 0, 0, 0, 0, 0],\n",
              "       [0, 0, 0, 0, 6, 0, 0, 0, 0, 0, 0, 0, 0, 0, 0, 0],\n",
              "       [0, 0, 0, 0, 0, 5, 0, 0, 0, 0, 0, 0, 0, 0, 0, 0],\n",
              "       [0, 0, 0, 0, 0, 0, 1, 0, 0, 0, 0, 0, 0, 0, 0, 0],\n",
              "       [0, 0, 0, 0, 0, 0, 0, 7, 0, 0, 0, 0, 0, 0, 0, 0],\n",
              "       [0, 0, 0, 0, 0, 0, 0, 0, 4, 0, 0, 0, 0, 0, 0, 0],\n",
              "       [0, 0, 0, 0, 0, 0, 0, 0, 0, 3, 0, 0, 0, 0, 0, 0],\n",
              "       [0, 0, 0, 0, 0, 0, 0, 0, 0, 0, 4, 0, 0, 0, 0, 0],\n",
              "       [0, 0, 0, 0, 0, 0, 0, 0, 0, 0, 0, 5, 0, 0, 0, 0],\n",
              "       [0, 0, 0, 0, 0, 0, 0, 0, 0, 0, 0, 0, 9, 0, 0, 0],\n",
              "       [0, 0, 0, 0, 0, 0, 0, 0, 0, 0, 0, 0, 0, 3, 0, 0],\n",
              "       [0, 0, 0, 0, 0, 0, 0, 0, 0, 0, 0, 0, 0, 0, 1, 0],\n",
              "       [0, 0, 0, 0, 0, 0, 0, 0, 0, 0, 0, 0, 0, 0, 0, 5]])"
            ]
          },
          "metadata": {},
          "execution_count": 68
        }
      ]
    },
    {
      "cell_type": "code",
      "source": [
        "import math\n",
        "\n",
        "def ltlg_distance(pos1, pos2):\n",
        "\n",
        "    lat1 = math.radians(map[pos1]['latitude'])\n",
        "    lon1 = math.radians(map[pos1]['longitude'])\n",
        "\n",
        "    lat2 = math.radians(map[pos2]['latitude'])\n",
        "    lon2 = math.radians(map[pos2]['longitude'])\n",
        "    print(map[pos1]['latitude'],map[pos1]['longitude'])\n",
        "\n",
        " \n",
        "    dlon = lon2 - lon1 \n",
        "    dlat = lat2 - lat1 \n",
        "    a = math.sin(dlat / 2)**2 + math.cos(lat1) * math.cos(lat2) * math.sin(dlon / 2)**2\n",
        "    c = 2 * math.atan2(math.sqrt(a), math.sqrt(1 - a))\n",
        "    distance = 3961 * c  \n",
        "\n",
        "    return round(distance,1)\n"
      ],
      "metadata": {
        "id": "Q1KXC5czYjRe"
      },
      "execution_count": 96,
      "outputs": []
    },
    {
      "cell_type": "code",
      "source": [
        "ltlg_distance('Centennial','Honors Hall')"
      ],
      "metadata": {
        "colab": {
          "base_uri": "https://localhost:8080/"
        },
        "id": "cdSg99roa1C6",
        "outputId": "21d47653-c8d2-4070-9671-dd63d2171226"
      },
      "execution_count": 98,
      "outputs": [
        {
          "output_type": "stream",
          "name": "stdout",
          "text": [
            "32.217553223855305 -98.2217742964382\n"
          ]
        },
        {
          "output_type": "execute_result",
          "data": {
            "text/plain": [
              "0.2"
            ]
          },
          "metadata": {},
          "execution_count": 98
        }
      ]
    },
    {
      "cell_type": "code",
      "source": [],
      "metadata": {
        "id": "Ytoe_9jca59B"
      },
      "execution_count": 101,
      "outputs": []
    },
    {
      "cell_type": "code",
      "source": [
        "def llgxy(latitude, longitude):\n",
        "    x = (longitude + 180) / 360 * 10\n",
        "    y = (latitude + 90) / 180 * 10\n",
        "    return x, y\n",
        "llgxy(32.217553223855305, -98.2217742964382)\n"
      ],
      "metadata": {
        "colab": {
          "base_uri": "https://localhost:8080/"
        },
        "id": "oOrjehqUfjwe",
        "outputId": "03a8ff13-f6a5-41ab-9cb5-8b0cb6864e21"
      },
      "execution_count": 106,
      "outputs": [
        {
          "output_type": "execute_result",
          "data": {
            "text/plain": [
              "(2.2716173806544946, 6.789864067991961)"
            ]
          },
          "metadata": {},
          "execution_count": 106
        }
      ]
    },
    {
      "cell_type": "code",
      "source": [
        "xr=[]\n",
        "yr=[]\n",
        "for pos1 in map:\n",
        "  print()\n",
        "  x = round((map[pos1]['longitude'] + 180) / 360 * 10,10)\n",
        "  y = round((map[pos1]['latitude']+90) / 180 * 10,10)\n",
        "  xr.append(x)\n",
        "  yr.append(y)\n",
        "  print((x,y))\n",
        "# xr.sort()\n",
        "# yr.sort()\n",
        "print(xr)\n",
        "print(yr)"
      ],
      "metadata": {
        "colab": {
          "base_uri": "https://localhost:8080/"
        },
        "id": "d9yxbLPtfpVS",
        "outputId": "ec9dc90b-4a83-45fa-b927-c962ea5aeace"
      },
      "execution_count": 119,
      "outputs": [
        {
          "output_type": "stream",
          "name": "stdout",
          "text": [
            "\n",
            "(2.2717278545, 6.7896809169)\n",
            "\n",
            "(2.2717415085, 6.7897628317)\n",
            "\n",
            "(2.271654619, 6.7898136601)\n",
            "\n",
            "(2.2716173807, 6.789864068)\n",
            "\n",
            "(2.2715985132, 6.789794757)\n",
            "\n",
            "(2.2716743421, 6.7898268812)\n",
            "\n",
            "(2.271706008, 6.7898712091)\n",
            "\n",
            "(2.2717246271, 6.7898791903)\n",
            "\n",
            "(2.2716844097, 6.7897850954)\n",
            "\n",
            "(2.2716734865, 6.7899308577)\n",
            "\n",
            "(2.2718154359, 6.7897980548)\n",
            "\n",
            "(2.2717573011, 6.7898164505)\n",
            "\n",
            "(2.2716321494, 6.7898735653)\n",
            "\n",
            "(2.2716535537, 6.7898868696)\n",
            "\n",
            "(2.2716363385, 6.789956598)\n",
            "\n",
            "(2.2716057608, 6.7899233376)\n",
            "[2.2717278545, 2.2717415085, 2.271654619, 2.2716173807, 2.2715985132, 2.2716743421, 2.271706008, 2.2717246271, 2.2716844097, 2.2716734865, 2.2718154359, 2.2717573011, 2.2716321494, 2.2716535537, 2.2716363385, 2.2716057608]\n",
            "[6.7896809169, 6.7897628317, 6.7898136601, 6.789864068, 6.789794757, 6.7898268812, 6.7898712091, 6.7898791903, 6.7897850954, 6.7899308577, 6.7897980548, 6.7898164505, 6.7898735653, 6.7898868696, 6.789956598, 6.7899233376]\n"
          ]
        }
      ]
    },
    {
      "cell_type": "code",
      "source": [
        "import matplotlib.pyplot as plt\n",
        "import numpy as np\n",
        "fig, ax = plt.subplots()\n",
        "ax.plot(xr, yr,'o')\n",
        "ax.set_xlabel('Longitude')\n",
        "ax.set_ylabel('Latitude')\n",
        "ax.set_title('Campus Map')\n",
        "plt.show()\n"
      ],
      "metadata": {
        "colab": {
          "base_uri": "https://localhost:8080/",
          "height": 295
        },
        "id": "Q1NMTE_XgID7",
        "outputId": "8055ff39-8ba2-483a-aa3c-57a38e636130"
      },
      "execution_count": 117,
      "outputs": [
        {
          "output_type": "display_data",
          "data": {
            "text/plain": [
              "<Figure size 432x288 with 1 Axes>"
            ],
            "image/png": "[encoded data removed]"
          },
          "metadata": {
            "needs_background": "light"
          }
        }
      ]
    },
    {
      "cell_type": "code",
      "source": [
        "max(yr)"
      ],
      "metadata": {
        "colab": {
          "base_uri": "https://localhost:8080/"
        },
        "id": "FlEpnFeEhSGK",
        "outputId": "8fd67202-b026-4f61-b573-a51e052e4178"
      },
      "execution_count": 122,
      "outputs": [
        {
          "output_type": "execute_result",
          "data": {
            "text/plain": [
              "6.789956598"
            ]
          },
          "metadata": {},
          "execution_count": 122
        }
      ]
    },
    {
      "cell_type": "code",
      "source": [
        "max(xr)\n",
        "min(xr)"
      ],
      "metadata": {
        "colab": {
          "base_uri": "https://localhost:8080/"
        },
        "id": "iYlUC7-xjOp0",
        "outputId": "82319b2b-1616-4852-ae4c-02d77e6a1f97"
      },
      "execution_count": 127,
      "outputs": [
        {
          "output_type": "execute_result",
          "data": {
            "text/plain": [
              "2.2718154359"
            ]
          },
          "metadata": {},
          "execution_count": 127
        }
      ]
    },
    {
      "cell_type": "code",
      "source": [
        "round(max(xr),67)"
      ],
      "metadata": {
        "colab": {
          "base_uri": "https://localhost:8080/"
        },
        "id": "cwxUwNi3j_qK",
        "outputId": "31631e34-d0b1-4ab8-850a-eb4f9c3698a3"
      },
      "execution_count": 135,
      "outputs": [
        {
          "output_type": "execute_result",
          "data": {
            "text/plain": [
              "2.2718154359"
            ]
          },
          "metadata": {},
          "execution_count": 135
        }
      ]
    },
    {
      "cell_type": "code",
      "source": [
        "round(xr[0],5)\n",
        "len(xr)"
      ],
      "metadata": {
        "colab": {
          "base_uri": "https://localhost:8080/"
        },
        "id": "HOVa6XU8kZuw",
        "outputId": "4ed24c5a-8e89-4d0d-b6ce-b1eef7855fb0"
      },
      "execution_count": 158,
      "outputs": [
        {
          "output_type": "execute_result",
          "data": {
            "text/plain": [
              "[2.2717278545,\n",
              " 2.2717415085,\n",
              " 2.271654619,\n",
              " 2.2716173807,\n",
              " 2.2715985132,\n",
              " 2.2716743421,\n",
              " 2.271706008,\n",
              " 2.2717246271,\n",
              " 2.2716844097,\n",
              " 2.2716734865,\n",
              " 2.2718154359,\n",
              " 2.2717573011,\n",
              " 2.2716321494,\n",
              " 2.2716535537,\n",
              " 2.2716363385,\n",
              " 2.2716057608]"
            ]
          },
          "metadata": {},
          "execution_count": 158
        }
      ]
    },
    {
      "cell_type": "code",
      "source": [
        "def print_maze(maze):\n",
        "    for row in maze:\n",
        "        print(\" | \".join(str(cell) for cell in row))\n",
        "       \n",
        "\n",
        "def create_maze(xr,yr):\n",
        "  ascii_array = [chr(i) for i in range(128) if chr(i).isalnum()]\n",
        "  points = [(xr[_],yr[_]) for _ in range(len(xr))]\n",
        "  tokens={ascii_array[_]:points[_] for _ in range(len(points))}\n",
        "  #print(points)\n",
        "  maze = np.array([['#' for _ in range(len(xr))]for _ in range(len(xr))])\n",
        "  for point, token in zip(points, tokens):\n",
        "        print(point[0],point[1])\n",
        "        maze[point[0]][point[1]] = 2\n",
        "  print_maze(maze)\n",
        "  \n",
        " \n",
        "\n",
        "create_maze(xr,yr)"
      ],
      "metadata": {
        "colab": {
          "base_uri": "https://localhost:8080/",
          "height": 340
        },
        "id": "x-5U1PU4kiuu",
        "outputId": "f43a43dc-7a16-4629-c9fd-40cdf446a103"
      },
      "execution_count": 164,
      "outputs": [
        {
          "output_type": "stream",
          "name": "stdout",
          "text": [
            "2.2717278545 6.7896809169\n"
          ]
        },
        {
          "output_type": "error",
          "ename": "IndexError",
          "evalue": "ignored",
          "traceback": [
            "\u001b[0;31m---------------------------------------------------------------------------\u001b[0m",
            "\u001b[0;31mIndexError\u001b[0m                                Traceback (most recent call last)",
            "\u001b[0;32m<ipython-input-164-712383952b61>\u001b[0m in \u001b[0;36m<module>\u001b[0;34m\u001b[0m\n\u001b[1;32m     17\u001b[0m \u001b[0;34m\u001b[0m\u001b[0m\n\u001b[1;32m     18\u001b[0m \u001b[0;34m\u001b[0m\u001b[0m\n\u001b[0;32m---> 19\u001b[0;31m \u001b[0mcreate_maze\u001b[0m\u001b[0;34m(\u001b[0m\u001b[0mxr\u001b[0m\u001b[0;34m,\u001b[0m\u001b[0myr\u001b[0m\u001b[0;34m)\u001b[0m\u001b[0;34m\u001b[0m\u001b[0;34m\u001b[0m\u001b[0m\n\u001b[0m",
            "\u001b[0;32m<ipython-input-164-712383952b61>\u001b[0m in \u001b[0;36mcreate_maze\u001b[0;34m(xr, yr)\u001b[0m\n\u001b[1;32m     12\u001b[0m   \u001b[0;32mfor\u001b[0m \u001b[0mpoint\u001b[0m\u001b[0;34m,\u001b[0m \u001b[0mtoken\u001b[0m \u001b[0;32min\u001b[0m \u001b[0mzip\u001b[0m\u001b[0;34m(\u001b[0m\u001b[0mpoints\u001b[0m\u001b[0;34m,\u001b[0m \u001b[0mtokens\u001b[0m\u001b[0;34m)\u001b[0m\u001b[0;34m:\u001b[0m\u001b[0;34m\u001b[0m\u001b[0;34m\u001b[0m\u001b[0m\n\u001b[1;32m     13\u001b[0m         \u001b[0mprint\u001b[0m\u001b[0;34m(\u001b[0m\u001b[0mpoint\u001b[0m\u001b[0;34m[\u001b[0m\u001b[0;36m0\u001b[0m\u001b[0;34m]\u001b[0m\u001b[0;34m,\u001b[0m\u001b[0mpoint\u001b[0m\u001b[0;34m[\u001b[0m\u001b[0;36m1\u001b[0m\u001b[0;34m]\u001b[0m\u001b[0;34m)\u001b[0m\u001b[0;34m\u001b[0m\u001b[0;34m\u001b[0m\u001b[0m\n\u001b[0;32m---> 14\u001b[0;31m         \u001b[0mmaze\u001b[0m\u001b[0;34m[\u001b[0m\u001b[0mpoint\u001b[0m\u001b[0;34m[\u001b[0m\u001b[0;36m0\u001b[0m\u001b[0;34m]\u001b[0m\u001b[0;34m]\u001b[0m\u001b[0;34m[\u001b[0m\u001b[0mpoint\u001b[0m\u001b[0;34m[\u001b[0m\u001b[0;36m1\u001b[0m\u001b[0;34m]\u001b[0m\u001b[0;34m]\u001b[0m \u001b[0;34m=\u001b[0m \u001b[0;36m2\u001b[0m\u001b[0;34m\u001b[0m\u001b[0;34m\u001b[0m\u001b[0m\n\u001b[0m\u001b[1;32m     15\u001b[0m   \u001b[0mprint_maze\u001b[0m\u001b[0;34m(\u001b[0m\u001b[0mmaze\u001b[0m\u001b[0;34m)\u001b[0m\u001b[0;34m\u001b[0m\u001b[0;34m\u001b[0m\u001b[0m\n\u001b[1;32m     16\u001b[0m \u001b[0;34m\u001b[0m\u001b[0m\n",
            "\u001b[0;31mIndexError\u001b[0m: only integers, slices (`:`), ellipsis (`...`), numpy.newaxis (`None`) and integer or boolean arrays are valid indices"
          ]
        }
      ]
    },
    {
      "cell_type": "code",
      "source": [
        "ord('a')"
      ],
      "metadata": {
        "colab": {
          "base_uri": "https://localhost:8080/"
        },
        "id": "0XcWu3d2oQCo",
        "outputId": "2889882e-c3e6-47f6-cecf-d4aacd36bb78"
      },
      "execution_count": 148,
      "outputs": [
        {
          "output_type": "execute_result",
          "data": {
            "text/plain": [
              "97"
            ]
          },
          "metadata": {},
          "execution_count": 148
        }
      ]
    },
    {
      "cell_type": "code",
      "source": [
        "sorted_xr = np.sort(xr)\n",
        "ascii_array = [chr(i) for i in range(128) if chr(i).isalnum()]    \n",
        "    # calculate the range between each adjacent x-coordinate\n",
        "x_range = np.diff(sorted_xr)\n",
        "np.min(x_range) / (len(ascii_array) - 1)"
      ],
      "metadata": {
        "colab": {
          "base_uri": "https://localhost:8080/"
        },
        "id": "STs-u_uOobY0",
        "outputId": "86783fd8-9361-43fa-d752-6fde4723bfc6"
      },
      "execution_count": 169,
      "outputs": [
        {
          "output_type": "execute_result",
          "data": {
            "text/plain": [
              "1.4026229503907998e-08"
            ]
          },
          "metadata": {},
          "execution_count": 169
        }
      ]
    },
    {
      "cell_type": "code",
      "source": [
        "xr"
      ],
      "metadata": {
        "colab": {
          "base_uri": "https://localhost:8080/"
        },
        "id": "gOkkzXPGr5Xl",
        "outputId": "2664f0b9-e2cb-416c-d6f3-9a16a52a5425"
      },
      "execution_count": 170,
      "outputs": [
        {
          "output_type": "execute_result",
          "data": {
            "text/plain": [
              "[2.2717278545,\n",
              " 2.2717415085,\n",
              " 2.271654619,\n",
              " 2.2716173807,\n",
              " 2.2715985132,\n",
              " 2.2716743421,\n",
              " 2.271706008,\n",
              " 2.2717246271,\n",
              " 2.2716844097,\n",
              " 2.2716734865,\n",
              " 2.2718154359,\n",
              " 2.2717573011,\n",
              " 2.2716321494,\n",
              " 2.2716535537,\n",
              " 2.2716363385,\n",
              " 2.2716057608]"
            ]
          },
          "metadata": {},
          "execution_count": 170
        }
      ]
    },
    {
      "cell_type": "code",
      "source": [],
      "metadata": {
        "id": "TymH_yFvsozv"
      },
      "execution_count": null,
      "outputs": []
    }
  ]
}